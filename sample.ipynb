{
 "cells": [
  {
   "metadata": {},
   "cell_type": "markdown",
   "source": [
    "# Introdution to Machine Learning - Course Project Report\n",
    "\n",
    "Group members:\n",
    "   - Grzegorz Prasek\n",
    "   - Jakub Kindracki\n",
    "   - Mykhailo Shamrai\n",
    "   - Mateusz Mikiciuk\n",
    "   - Ernest Mołczan\n",
    "\n",
    "This project uses the DAPS dataset to teach a CNN how to classify audio files. It classifies the audio files into 2 classes 0 and 1. The aim is that it should 'let in' only the people whose voice is recognized by the model as from class 1.\n",
    "\n",
    "## Table of contents:\n",
    "1. Dataset\n",
    "2. Exploratory Data Analysis\n",
    "3. Preparing audio files for generating spectrograms\n",
    "3. Generating spectrograms\n",
    "4. Classifying spectrograms for train, test and validation datasets\n",
    "5. Model\n",
    "6. Training loop\n",
    "7. [EXTRA] **interpretability** - visualizing the behavior and function of individual cnn layers and using if for data exploration\n",
    "8. [EXTRA] **uncertainty** - using monte carlo dropout to estimate classification confidence. Comparing dropout to an ensemble of CNN networks.\n",
    "9. [EXTRA] **parameter space** examining how much individual layers of the network change during training. Investigating their re-initialization robustness."
   ],
   "id": "8a77807f92f26ee"
  },
  {
   "metadata": {},
   "cell_type": "markdown",
   "source": [
    "# 10. Parameter space\n",
    "\n",
    "First thing to examine was how much individual layers of the network change during training. Do investigate this matter, before launching training loop, we created table with initial parameters:"
   ],
   "id": "a953f2bee5ee8a92"
  },
  {
   "metadata": {},
   "cell_type": "code",
   "outputs": [],
   "execution_count": null,
   "source": "initial_params = {name: param.clone().detach() for name, param in model.named_parameters()}",
   "id": "faaaded5013a6fb9"
  },
  {
   "metadata": {},
   "cell_type": "markdown",
   "source": "Then, at the end of training loop, we checked how model parameters changed:",
   "id": "27da3a300cd636d4"
  },
  {
   "metadata": {},
   "cell_type": "code",
   "outputs": [],
   "execution_count": null,
   "source": [
    "for name, param in model.named_parameters():\n",
    "    param_change = torch.norm(param - initial_params[name]).item()\n",
    "    print(f\"Epoch {epoch + 1}, Layer {name}, Parameter Change: {param_change:.4f}\")"
   ],
   "id": "6388b191edf09d62"
  },
  {
   "metadata": {},
   "cell_type": "markdown",
   "source": "Here are some charts that show changes of model parameters over time for model trained on spectrograms.",
   "id": "c7da45dd1282b9ec"
  },
  {
   "metadata": {},
   "cell_type": "markdown",
   "source": [
    "\n",
    "\n",
    "## Charts\n",
    "![alt text](data/charts-chapter-9/all_parameters_all_layers.png)\n",
    "![alt text](data/charts-chapter-9/conv_1_2_3_weights.png)\n",
    "![alt text](data/charts-chapter-9/weights_biases_convolutional.png)\n",
    "![alt text](data/charts-chapter-9/weights_biases_fc_layers.png)\n",
    "![alt text](data/charts-chapter-9/test_accuracy_reinitialization.png)\n",
    "\n"
   ],
   "id": "4b0d1a2fa5de9fa7"
  },
  {
   "metadata": {},
   "cell_type": "markdown",
   "source": "",
   "id": "91fbaf3db41d621c"
  }
 ],
 "metadata": {
  "kernelspec": {
   "display_name": "Python 3",
   "language": "python",
   "name": "python3"
  },
  "language_info": {
   "codemirror_mode": {
    "name": "ipython",
    "version": 2
   },
   "file_extension": ".py",
   "mimetype": "text/x-python",
   "name": "python",
   "nbconvert_exporter": "python",
   "pygments_lexer": "ipython2",
   "version": "2.7.6"
  }
 },
 "nbformat": 4,
 "nbformat_minor": 5
}
